{
  "nbformat": 4,
  "nbformat_minor": 0,
  "metadata": {
    "colab": {
      "provenance": [],
      "include_colab_link": true
    },
    "kernelspec": {
      "name": "python3",
      "display_name": "Python 3"
    },
    "language_info": {
      "name": "python"
    }
  },
  "cells": [
    {
      "cell_type": "markdown",
      "metadata": {
        "id": "view-in-github",
        "colab_type": "text"
      },
      "source": [
        "<a href=\"https://colab.research.google.com/github/kylecata/kylecata/blob/main/sqc_homework_chapter_6.ipynb\" target=\"_parent\"><img src=\"https://colab.research.google.com/assets/colab-badge.svg\" alt=\"Open In Colab\"/></a>"
      ]
    },
    {
      "cell_type": "code",
      "execution_count": null,
      "metadata": {
        "id": "vFG8_XFTcPhF"
      },
      "outputs": [],
      "source": [
        "import numpy as np\n",
        "import pandas as pd\n",
        "import matplotlib.pyplot as plt\n",
        "import statistics\n",
        "import math\n",
        "from scipy.stats import lognorm\n",
        "import statsmodels.graphics.gofplots as sm\n",
        "import seaborn as sns\n",
        "import scipy.stats as sc"
      ]
    },
    {
      "cell_type": "code",
      "source": [
        "from google.colab import files\n",
        "\n",
        "uploaded = files.upload()\n",
        "\n",
        "for fn in uploaded.keys():\n",
        "  print('User uploaded file \"{name}\" with length {length} bytes'.format(\n",
        "      name=fn, length=len(uploaded[fn])))"
      ],
      "metadata": {
        "colab": {
          "base_uri": "https://localhost:8080/",
          "height": 90
        },
        "id": "--zuK0ZJceXr",
        "outputId": "71fa2ca2-72a6-4f14-f484-e8134623818b"
      },
      "execution_count": null,
      "outputs": [
        {
          "output_type": "display_data",
          "data": {
            "text/plain": [
              "<IPython.core.display.HTML object>"
            ],
            "text/html": [
              "\n",
              "     <input type=\"file\" id=\"files-e428fe17-fcd7-4bef-b781-d1137a779131\" name=\"files[]\" multiple disabled\n",
              "        style=\"border:none\" />\n",
              "     <output id=\"result-e428fe17-fcd7-4bef-b781-d1137a779131\">\n",
              "      Upload widget is only available when the cell has been executed in the\n",
              "      current browser session. Please rerun this cell to enable.\n",
              "      </output>\n",
              "      <script>// Copyright 2017 Google LLC\n",
              "//\n",
              "// Licensed under the Apache License, Version 2.0 (the \"License\");\n",
              "// you may not use this file except in compliance with the License.\n",
              "// You may obtain a copy of the License at\n",
              "//\n",
              "//      http://www.apache.org/licenses/LICENSE-2.0\n",
              "//\n",
              "// Unless required by applicable law or agreed to in writing, software\n",
              "// distributed under the License is distributed on an \"AS IS\" BASIS,\n",
              "// WITHOUT WARRANTIES OR CONDITIONS OF ANY KIND, either express or implied.\n",
              "// See the License for the specific language governing permissions and\n",
              "// limitations under the License.\n",
              "\n",
              "/**\n",
              " * @fileoverview Helpers for google.colab Python module.\n",
              " */\n",
              "(function(scope) {\n",
              "function span(text, styleAttributes = {}) {\n",
              "  const element = document.createElement('span');\n",
              "  element.textContent = text;\n",
              "  for (const key of Object.keys(styleAttributes)) {\n",
              "    element.style[key] = styleAttributes[key];\n",
              "  }\n",
              "  return element;\n",
              "}\n",
              "\n",
              "// Max number of bytes which will be uploaded at a time.\n",
              "const MAX_PAYLOAD_SIZE = 100 * 1024;\n",
              "\n",
              "function _uploadFiles(inputId, outputId) {\n",
              "  const steps = uploadFilesStep(inputId, outputId);\n",
              "  const outputElement = document.getElementById(outputId);\n",
              "  // Cache steps on the outputElement to make it available for the next call\n",
              "  // to uploadFilesContinue from Python.\n",
              "  outputElement.steps = steps;\n",
              "\n",
              "  return _uploadFilesContinue(outputId);\n",
              "}\n",
              "\n",
              "// This is roughly an async generator (not supported in the browser yet),\n",
              "// where there are multiple asynchronous steps and the Python side is going\n",
              "// to poll for completion of each step.\n",
              "// This uses a Promise to block the python side on completion of each step,\n",
              "// then passes the result of the previous step as the input to the next step.\n",
              "function _uploadFilesContinue(outputId) {\n",
              "  const outputElement = document.getElementById(outputId);\n",
              "  const steps = outputElement.steps;\n",
              "\n",
              "  const next = steps.next(outputElement.lastPromiseValue);\n",
              "  return Promise.resolve(next.value.promise).then((value) => {\n",
              "    // Cache the last promise value to make it available to the next\n",
              "    // step of the generator.\n",
              "    outputElement.lastPromiseValue = value;\n",
              "    return next.value.response;\n",
              "  });\n",
              "}\n",
              "\n",
              "/**\n",
              " * Generator function which is called between each async step of the upload\n",
              " * process.\n",
              " * @param {string} inputId Element ID of the input file picker element.\n",
              " * @param {string} outputId Element ID of the output display.\n",
              " * @return {!Iterable<!Object>} Iterable of next steps.\n",
              " */\n",
              "function* uploadFilesStep(inputId, outputId) {\n",
              "  const inputElement = document.getElementById(inputId);\n",
              "  inputElement.disabled = false;\n",
              "\n",
              "  const outputElement = document.getElementById(outputId);\n",
              "  outputElement.innerHTML = '';\n",
              "\n",
              "  const pickedPromise = new Promise((resolve) => {\n",
              "    inputElement.addEventListener('change', (e) => {\n",
              "      resolve(e.target.files);\n",
              "    });\n",
              "  });\n",
              "\n",
              "  const cancel = document.createElement('button');\n",
              "  inputElement.parentElement.appendChild(cancel);\n",
              "  cancel.textContent = 'Cancel upload';\n",
              "  const cancelPromise = new Promise((resolve) => {\n",
              "    cancel.onclick = () => {\n",
              "      resolve(null);\n",
              "    };\n",
              "  });\n",
              "\n",
              "  // Wait for the user to pick the files.\n",
              "  const files = yield {\n",
              "    promise: Promise.race([pickedPromise, cancelPromise]),\n",
              "    response: {\n",
              "      action: 'starting',\n",
              "    }\n",
              "  };\n",
              "\n",
              "  cancel.remove();\n",
              "\n",
              "  // Disable the input element since further picks are not allowed.\n",
              "  inputElement.disabled = true;\n",
              "\n",
              "  if (!files) {\n",
              "    return {\n",
              "      response: {\n",
              "        action: 'complete',\n",
              "      }\n",
              "    };\n",
              "  }\n",
              "\n",
              "  for (const file of files) {\n",
              "    const li = document.createElement('li');\n",
              "    li.append(span(file.name, {fontWeight: 'bold'}));\n",
              "    li.append(span(\n",
              "        `(${file.type || 'n/a'}) - ${file.size} bytes, ` +\n",
              "        `last modified: ${\n",
              "            file.lastModifiedDate ? file.lastModifiedDate.toLocaleDateString() :\n",
              "                                    'n/a'} - `));\n",
              "    const percent = span('0% done');\n",
              "    li.appendChild(percent);\n",
              "\n",
              "    outputElement.appendChild(li);\n",
              "\n",
              "    const fileDataPromise = new Promise((resolve) => {\n",
              "      const reader = new FileReader();\n",
              "      reader.onload = (e) => {\n",
              "        resolve(e.target.result);\n",
              "      };\n",
              "      reader.readAsArrayBuffer(file);\n",
              "    });\n",
              "    // Wait for the data to be ready.\n",
              "    let fileData = yield {\n",
              "      promise: fileDataPromise,\n",
              "      response: {\n",
              "        action: 'continue',\n",
              "      }\n",
              "    };\n",
              "\n",
              "    // Use a chunked sending to avoid message size limits. See b/62115660.\n",
              "    let position = 0;\n",
              "    do {\n",
              "      const length = Math.min(fileData.byteLength - position, MAX_PAYLOAD_SIZE);\n",
              "      const chunk = new Uint8Array(fileData, position, length);\n",
              "      position += length;\n",
              "\n",
              "      const base64 = btoa(String.fromCharCode.apply(null, chunk));\n",
              "      yield {\n",
              "        response: {\n",
              "          action: 'append',\n",
              "          file: file.name,\n",
              "          data: base64,\n",
              "        },\n",
              "      };\n",
              "\n",
              "      let percentDone = fileData.byteLength === 0 ?\n",
              "          100 :\n",
              "          Math.round((position / fileData.byteLength) * 100);\n",
              "      percent.textContent = `${percentDone}% done`;\n",
              "\n",
              "    } while (position < fileData.byteLength);\n",
              "  }\n",
              "\n",
              "  // All done.\n",
              "  yield {\n",
              "    response: {\n",
              "      action: 'complete',\n",
              "    }\n",
              "  };\n",
              "}\n",
              "\n",
              "scope.google = scope.google || {};\n",
              "scope.google.colab = scope.google.colab || {};\n",
              "scope.google.colab._files = {\n",
              "  _uploadFiles,\n",
              "  _uploadFilesContinue,\n",
              "};\n",
              "})(self);\n",
              "</script> "
            ]
          },
          "metadata": {}
        },
        {
          "output_type": "stream",
          "name": "stdout",
          "text": [
            "Saving Table 6E3.csv to Table 6E3.csv\n",
            "User uploaded file \"Table 6E3.csv\" with length 244 bytes\n"
          ]
        }
      ]
    },
    {
      "cell_type": "code",
      "source": [
        "import pandas as pd\n",
        "data = pd.read_csv('Table 6E3.csv', sep=',', na_values=\".\")\n",
        "\n",
        "#dataI= [data[['x1', 'x2', 'x3', 'x4','x5']][data['Exm6-1Samp'] < 31]]\n",
        "#dataI= [data[['x1', 'x2', 'x3', 'x4']][data[0:11]]\n",
        "\n",
        "#retrieve the Phase II data\n",
        "#dataII= [data[['x1', 'x2', 'x3', 'x4']][data[11:19]]\n",
        "\n",
        "#all data points; the data type is a list\n",
        "dataAll=[data[['x1', 'x2', 'x3', 'x4']]]\n",
        "\n",
        "dataAll"
      ],
      "metadata": {
        "colab": {
          "base_uri": "https://localhost:8080/"
        },
        "id": "YjvdVe0KclOF",
        "outputId": "854be589-d896-4fca-8898-b151abca2f12"
      },
      "execution_count": null,
      "outputs": [
        {
          "output_type": "execute_result",
          "data": {
            "text/plain": [
              "[    x1  x2  x3  x4\n",
              " 0    6   9  10  15\n",
              " 1   10   4   6  11\n",
              " 2    7   8  10   5\n",
              " 3    8   9   6  13\n",
              " 4    9  10   7  13\n",
              " 5   12  11  10  10\n",
              " 6   16  10   8   9\n",
              " 7    7   5  10   4\n",
              " 8    9   7   8  12\n",
              " 9   15  16  10  13\n",
              " 10   8  12  14  16\n",
              " 11   6  13   9  11\n",
              " 12  16   9  13  15\n",
              " 13   7  13  10  12\n",
              " 14  11   7  10  16\n",
              " 15  15  10  11  14\n",
              " 16   9   8  12  10\n",
              " 17  15   7  10  11\n",
              " 18   8   6   9  12\n",
              " 19  13  14  11  15]"
            ]
          },
          "metadata": {},
          "execution_count": 5
        }
      ]
    },
    {
      "cell_type": "code",
      "source": [
        "x=np.reshape(dataAll, (20,4))\n",
        "x"
      ],
      "metadata": {
        "colab": {
          "base_uri": "https://localhost:8080/"
        },
        "id": "ChGOTUN-q9m5",
        "outputId": "75faff96-f7d0-476c-ab5d-00c9b1d15edb"
      },
      "execution_count": null,
      "outputs": [
        {
          "output_type": "execute_result",
          "data": {
            "text/plain": [
              "array([[ 6,  9, 10, 15],\n",
              "       [10,  4,  6, 11],\n",
              "       [ 7,  8, 10,  5],\n",
              "       [ 8,  9,  6, 13],\n",
              "       [ 9, 10,  7, 13],\n",
              "       [12, 11, 10, 10],\n",
              "       [16, 10,  8,  9],\n",
              "       [ 7,  5, 10,  4],\n",
              "       [ 9,  7,  8, 12],\n",
              "       [15, 16, 10, 13],\n",
              "       [ 8, 12, 14, 16],\n",
              "       [ 6, 13,  9, 11],\n",
              "       [16,  9, 13, 15],\n",
              "       [ 7, 13, 10, 12],\n",
              "       [11,  7, 10, 16],\n",
              "       [15, 10, 11, 14],\n",
              "       [ 9,  8, 12, 10],\n",
              "       [15,  7, 10, 11],\n",
              "       [ 8,  6,  9, 12],\n",
              "       [13, 14, 11, 15]])"
            ]
          },
          "metadata": {},
          "execution_count": 6
        }
      ]
    },
    {
      "cell_type": "code",
      "source": [
        "# Define list variable for groups means\n",
        "x_bar = []\n",
        "\n",
        "# Define list variable for groups ranges\n",
        "r = [] "
      ],
      "metadata": {
        "id": "1zlqVmpvd0GH"
      },
      "execution_count": null,
      "outputs": []
    },
    {
      "cell_type": "code",
      "source": [
        "# Get and append groups means and ranges\n",
        "# if you run this cell multiple times, then the data series will be repeated\n",
        "for group in x:\n",
        "    x_bar.append(group.mean())\n",
        "    r.append(group.max() - group.min())\n",
        "#print(x_bar)\n",
        "#print(r)\n",
        "m=len(x_bar)\n",
        "print('points in x, ', m)"
      ],
      "metadata": {
        "colab": {
          "base_uri": "https://localhost:8080/"
        },
        "id": "z1fWG4Rpd4Lo",
        "outputId": "7f117642-e1be-41f4-e096-9db95cd476ef"
      },
      "execution_count": null,
      "outputs": [
        {
          "output_type": "stream",
          "name": "stdout",
          "text": [
            "points in x,  20\n"
          ]
        }
      ]
    },
    {
      "cell_type": "code",
      "source": [
        "# Plot x-bar and R charts\n",
        "fig, axs = plt.subplots(2, figsize=(15,15))\n",
        "\n",
        "# x-bar chart\n",
        "# Chart parameters A2=0.577, D3, and D4 see the ref for other sample size\n",
        "A2=0.729 #n=4\n",
        "D3=0     #n=4\n",
        "D4=2.282 #n=4\n",
        "\n",
        "axs[0].plot(x_bar, linestyle='-', marker='o', color='black')\n",
        "axs[0].axhline((statistics.mean(x_bar)+A2*statistics.mean(r)), color='red', linestyle='dashed')\n",
        "axs[0].axhline((statistics.mean(x_bar)-A2*statistics.mean(r)), color='red', linestyle='dashed')\n",
        "axs[0].axhline((statistics.mean(x_bar)), color='blue')\n",
        "axs[0].set_title('x-bar Chart')\n",
        "axs[0].set(xlabel='Group', ylabel='Mean')\n",
        "\n",
        "# R chart\n",
        "axs[1].plot(r, linestyle='-', marker='o', color='black')\n",
        "axs[1].axhline((D4*statistics.mean(r)), color='red', linestyle='dashed')\n",
        "axs[1].axhline((D3*statistics.mean(r)), color='red', linestyle='dashed')\n",
        "axs[1].axhline((statistics.mean(r)), color='blue')\n",
        "axs[1].set_ylim(bottom=0)\n",
        "axs[1].set_title('R Chart')\n",
        "axs[1].set(xlabel='Group', ylabel='Range')"
      ],
      "metadata": {
        "colab": {
          "base_uri": "https://localhost:8080/",
          "height": 910
        },
        "id": "hcrFjCIPqz29",
        "outputId": "e7b4cc2d-ce0b-4862-e3df-2463a102b04e"
      },
      "execution_count": null,
      "outputs": [
        {
          "output_type": "execute_result",
          "data": {
            "text/plain": [
              "[Text(0, 0.5, 'Range'), Text(0.5, 0, 'Group')]"
            ]
          },
          "metadata": {},
          "execution_count": 9
        },
        {
          "output_type": "display_data",
          "data": {
            "text/plain": [
              "<Figure size 1080x1080 with 2 Axes>"
            ],
            "image/png": "[encoded data removed]"
          },
          "metadata": {
            "needs_background": "light"
          }
        }
      ]
    },
    {
      "cell_type": "code",
      "source": [
        "i = 0\n",
        "control = True\n",
        "for group in x_bar:\n",
        "    if group > statistics.mean(x_bar)+A2*statistics.mean(r) or group < statistics.mean(x_bar)-A2*statistics.mean(r):\n",
        "        print('Group', i, 'out of mean control limits!')\n",
        "        control = False\n",
        "    i += 1\n",
        "if control == True:\n",
        "    print('All points within control limits.')"
      ],
      "metadata": {
        "colab": {
          "base_uri": "https://localhost:8080/"
        },
        "id": "sBrlAZSmXDdO",
        "outputId": "c32c5f16-10aa-4a72-ff6f-f3f0475ebe9e"
      },
      "execution_count": null,
      "outputs": [
        {
          "output_type": "stream",
          "name": "stdout",
          "text": [
            "All points within control limits.\n"
          ]
        }
      ]
    },
    {
      "cell_type": "code",
      "source": [
        "i = 0\n",
        "control = True\n",
        "for group in r:\n",
        "    if group > D4*statistics.mean(r):\n",
        "        print('Group', i, 'out of range cotrol limits!')\n",
        "        control = False\n",
        "    i += 1\n",
        "if control == True:\n",
        "    print('All points within control limits.')"
      ],
      "metadata": {
        "colab": {
          "base_uri": "https://localhost:8080/"
        },
        "id": "G-CnZ8dIXDqn",
        "outputId": "daf50c2b-521e-40be-980f-1589cbb24b79"
      },
      "execution_count": null,
      "outputs": [
        {
          "output_type": "stream",
          "name": "stdout",
          "text": [
            "All points within control limits.\n"
          ]
        }
      ]
    },
    {
      "cell_type": "markdown",
      "source": [
        "6.8a\n",
        "All of the points are within the control limits meaning this process is in statistical control."
      ],
      "metadata": {
        "id": "Tb1mwz8rq5ad"
      }
    },
    {
      "cell_type": "code",
      "source": [
        "USL = 355\n",
        "LSL = 345\n",
        "Cp = (USL-LSL)/(6*np.std(dataAll))\n",
        "Cp"
      ],
      "metadata": {
        "colab": {
          "base_uri": "https://localhost:8080/"
        },
        "id": "IQ1UWBKTrPKb",
        "outputId": "69c4171b-1d59-467d-af0d-4aa5b9a1a2ba"
      },
      "execution_count": null,
      "outputs": [
        {
          "output_type": "execute_result",
          "data": {
            "text/plain": [
              "0.5387744133583291"
            ]
          },
          "metadata": {},
          "execution_count": 12
        }
      ]
    },
    {
      "cell_type": "code",
      "source": [
        "m=np.mean(data)\n",
        "\n",
        "sigma = np.std(data)\n",
        "\n",
        "Cpk = np.min([(USL-m)/(3*sigma), (m-LSL)/(3*sigma)])\n",
        "Cpk"
      ],
      "metadata": {
        "colab": {
          "base_uri": "https://localhost:8080/"
        },
        "id": "t2j0uvZpzuqw",
        "outputId": "7800c072-eae6-46bb-a88f-79da4d04a76d"
      },
      "execution_count": null,
      "outputs": [
        {
          "output_type": "execute_result",
          "data": {
            "text/plain": [
              "-55.81360987095689"
            ]
          },
          "metadata": {},
          "execution_count": 13
        }
      ]
    },
    {
      "cell_type": "markdown",
      "source": [
        "6.8b \n",
        "With a Cp value of 0.5387744133583291, it shows that the process spread  is larger than the specification limit meaning the process is not capable."
      ],
      "metadata": {
        "id": "44BySkKWw2Mz"
      }
    },
    {
      "cell_type": "code",
      "source": [
        "a = list(data['x1'])\n",
        "\n",
        "b = list(data['x2'])\n",
        "\n",
        "c = list(data['x3'])\n",
        "\n",
        "d = list(data['x4'])\n",
        "\n",
        "import itertools\n",
        "datalist = itertools.chain(a, b, c, d)\n",
        "values = list(datalist)\n",
        "values"
      ],
      "metadata": {
        "id": "WxTx6eVC2Fgj",
        "colab": {
          "base_uri": "https://localhost:8080/"
        },
        "outputId": "b2dda2ee-12df-4669-edac-8e2da47efaf1"
      },
      "execution_count": null,
      "outputs": [
        {
          "output_type": "execute_result",
          "data": {
            "text/plain": [
              "[6,\n",
              " 10,\n",
              " 7,\n",
              " 8,\n",
              " 9,\n",
              " 12,\n",
              " 16,\n",
              " 7,\n",
              " 9,\n",
              " 15,\n",
              " 8,\n",
              " 6,\n",
              " 16,\n",
              " 7,\n",
              " 11,\n",
              " 15,\n",
              " 9,\n",
              " 15,\n",
              " 8,\n",
              " 13,\n",
              " 9,\n",
              " 4,\n",
              " 8,\n",
              " 9,\n",
              " 10,\n",
              " 11,\n",
              " 10,\n",
              " 5,\n",
              " 7,\n",
              " 16,\n",
              " 12,\n",
              " 13,\n",
              " 9,\n",
              " 13,\n",
              " 7,\n",
              " 10,\n",
              " 8,\n",
              " 7,\n",
              " 6,\n",
              " 14,\n",
              " 10,\n",
              " 6,\n",
              " 10,\n",
              " 6,\n",
              " 7,\n",
              " 10,\n",
              " 8,\n",
              " 10,\n",
              " 8,\n",
              " 10,\n",
              " 14,\n",
              " 9,\n",
              " 13,\n",
              " 10,\n",
              " 10,\n",
              " 11,\n",
              " 12,\n",
              " 10,\n",
              " 9,\n",
              " 11,\n",
              " 15,\n",
              " 11,\n",
              " 5,\n",
              " 13,\n",
              " 13,\n",
              " 10,\n",
              " 9,\n",
              " 4,\n",
              " 12,\n",
              " 13,\n",
              " 16,\n",
              " 11,\n",
              " 15,\n",
              " 12,\n",
              " 16,\n",
              " 14,\n",
              " 10,\n",
              " 11,\n",
              " 12,\n",
              " 15]"
            ]
          },
          "metadata": {},
          "execution_count": 14
        }
      ]
    },
    {
      "cell_type": "code",
      "source": [
        "sample_size = 20\n",
        "standard_norm = np.random.normal(size=sample_size)\n",
        "\n",
        "fig, ax = plt.subplots(1, 2, figsize=(12, 7))\n",
        "sns.histplot(values,kde=True, color ='blue',ax=ax[0])\n",
        "#sm.ProbPlot(values).qqplot(line='s', ax=ax[1])"
      ],
      "metadata": {
        "colab": {
          "base_uri": "https://localhost:8080/",
          "height": 449
        },
        "id": "i8eGv-IH_oFO",
        "outputId": "1393d534-5c50-416d-db27-d4dfdb8c71d1"
      },
      "execution_count": null,
      "outputs": [
        {
          "output_type": "execute_result",
          "data": {
            "text/plain": [
              "<matplotlib.axes._subplots.AxesSubplot at 0x7f2961446450>"
            ]
          },
          "metadata": {},
          "execution_count": 15
        },
        {
          "output_type": "display_data",
          "data": {
            "text/plain": [
              "<Figure size 864x504 with 2 Axes>"
            ],
            "image/png": "[encoded data removed]"
          },
          "metadata": {
            "needs_background": "light"
          }
        }
      ]
    },
    {
      "cell_type": "markdown",
      "source": [
        "6.8c \n",
        "The distribution of the voltage values in the histogram show that the voltage values are appoximately normally distributed."
      ],
      "metadata": {
        "id": "YjlzULCLCLs1"
      }
    }
  ]
}